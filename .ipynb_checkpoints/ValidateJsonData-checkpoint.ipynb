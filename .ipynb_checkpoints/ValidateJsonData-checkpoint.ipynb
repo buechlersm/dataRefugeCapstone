{
 "cells": [
  {
   "cell_type": "code",
   "execution_count": null,
   "metadata": {},
   "outputs": [],
   "source": [
    "# Install Python and Jupyter Notebook\n",
    "# Install jsonschema by running `pip install jsonschema` in a terminal. Documentation https://python-jsonschema.readthedocs.io/en/latest/"
   ]
  },
  {
   "cell_type": "code",
   "execution_count": null,
   "metadata": {},
   "outputs": [],
   "source": [
    "from jsonschema import Draft7Validator"
   ]
  },
  {
   "cell_type": "code",
   "execution_count": null,
   "metadata": {},
   "outputs": [],
   "source": [
    "schema = {}"
   ]
  },
  {
   "cell_type": "code",
   "execution_count": null,
   "metadata": {},
   "outputs": [],
   "source": [
    "jsonData = {}"
   ]
  },
  {
   "cell_type": "code",
   "execution_count": null,
   "metadata": {},
   "outputs": [],
   "source": [
    "def validateJson(jsonData):\n",
    "    try:\n",
    "        validate(instance=jsonData, schema=schema)\n",
    "    except jsonschema.exceptions.ValidationError as err:\n",
    "        return False\n",
    "    return True"
   ]
  },
  {
   "cell_type": "code",
   "execution_count": null,
   "metadata": {},
   "outputs": [],
   "source": [
    "isValid = validateJson(jsonData)\n",
    "if isValid:\n",
    "    print(jsonData)\n",
    "    print(\"Great, this is valid!\")\n",
    "else:\n",
    "    print(jsonData)\n",
    "    print(\"Oh no, InValid!\")"
   ]
  }
 ],
 "metadata": {
  "kernelspec": {
   "display_name": "Python 3",
   "language": "python",
   "name": "python3"
  },
  "language_info": {
   "codemirror_mode": {
    "name": "ipython",
    "version": 3
   },
   "file_extension": ".py",
   "mimetype": "text/x-python",
   "name": "python",
   "nbconvert_exporter": "python",
   "pygments_lexer": "ipython3",
   "version": "3.6.5"
  }
 },
 "nbformat": 4,
 "nbformat_minor": 2
}
